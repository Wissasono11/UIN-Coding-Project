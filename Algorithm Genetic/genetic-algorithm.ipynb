{
 "cells": [
  {
   "cell_type": "code",
   "execution_count": 13,
   "metadata": {},
   "outputs": [],
   "source": [
    "# Cell 1 : Importing the required libraries\n",
    "import random\n",
    "import matplotlib.pyplot as plt"
   ]
  },
  {
   "cell_type": "code",
   "execution_count": 14,
   "metadata": {},
   "outputs": [],
   "source": [
    "# Cell 2 : Defining the Fitness Function\n",
    "def fitness_function(chromosome):\n",
    "    a, b, c, d = chromosome\n",
    "    return abs((a + 2 * b + 3 * c + 4 * d) - 30)"
   ]
  },
  {
   "cell_type": "code",
   "execution_count": 15,
   "metadata": {},
   "outputs": [],
   "source": [
    "# Cell 3 : Defining the Initialize Function\n",
    "def initialize_population(pop_size, gene_genre):\n",
    "    return [[random.randint(0, gene_genre) for _ in range(4)] for _ in range(pop_size)]"
   ]
  },
  {
   "cell_type": "code",
   "execution_count": 16,
   "metadata": {},
   "outputs": [],
   "source": [
    "# Cell 4 : Defining the Evaluate Function\n",
    "def evaluate_population(population):\n",
    "    return [fitness_function(chromosome) for chromosome in population]"
   ]
  },
  {
   "cell_type": "code",
   "execution_count": 17,
   "metadata": {},
   "outputs": [],
   "source": [
    "# Cell 5 : Defining the Select Parents Function\n",
    "def select_parents(population, fitness):\n",
    "    total_fitness = sum(1 / (1 + f) for f in fitness)\n",
    "    probabilities = [(1 / (1 + f)) / total_fitness for f in fitness]\n",
    "    cumulative_probabilities = [sum(probabilities[:i+1]) for i in range(len(probabilities))]\n",
    "\n",
    "    def roulette_wheel_select():\n",
    "        r = random.random()\n",
    "        for i, p in enumerate(cumulative_probabilities):\n",
    "            if r <= p:\n",
    "                return population[i]\n",
    "    \n",
    "    return [roulette_wheel_select() for _ in range(len(population))]"
   ]
  },
  {
   "cell_type": "code",
   "execution_count": 18,
   "metadata": {},
   "outputs": [],
   "source": [
    "# Cell 6 : Define the Crossover Function\n",
    "def crossover(parents, crossover_rate):\n",
    "    offspring = []\n",
    "    for i in range(0, len(parents), 2):\n",
    "        if i + 1 >= len(parents):\n",
    "            offspring.append(parents[i])\n",
    "            continue\n",
    "        parent1, parent2 = parents[i], parents[i + 1]\n",
    "        if random.random() < crossover_rate:\n",
    "            point = random.randint(1, len(parent1) - 1)\n",
    "            child1 = parent1[:point] + parent2[point:]\n",
    "            child2 = parent2[:point] + parent1[point:]\n",
    "            offspring.extend([child1, child2])\n",
    "        else:\n",
    "            offspring.extend([parent1, parent2])\n",
    "    return offspring"
   ]
  },
  {
   "cell_type": "code",
   "execution_count": 19,
   "metadata": {},
   "outputs": [],
   "source": [
    "# Cell 7 : Defining the Mutation Function\n",
    "def mutate(population, mutation_rate, gene_range):\n",
    "    for chromosome in population:\n",
    "        if random.random() < mutation_rate:\n",
    "            gene_index = random.randint(0, len(chromosome) - 1)\n",
    "            chromosome[gene_index] = random.randint(0, gene_range)\n",
    "    return population"
   ]
  },
  {
   "cell_type": "code",
   "execution_count": 20,
   "metadata": {},
   "outputs": [],
   "source": [
    "# Cell 8 : Define the Genetic Algorithm Function\n",
    "def genetic_algorithm(pop_size, gene_range, generations, crossover_rate, mutation_rate):\n",
    "    population = initialize_population(pop_size, gene_range)\n",
    "    best_fitness_over_time = []\n",
    "    for generation in range(generations):\n",
    "        fitness = evaluate_population(population)\n",
    "        best_fitness_over_time.append(min(fitness))\n",
    "        if 0 in fitness:\n",
    "            best_solution = population[fitness.index(0)]\n",
    "            print(f\"Solution found in generation {generation}: {best_solution}\")\n",
    "            return best_solution, best_fitness_over_time\n",
    "        \n",
    "        parents = select_parents(population, fitness)\n",
    "        offspring = crossover(parents, crossover_rate)\n",
    "        population = mutate(offspring, mutation_rate, gene_range)\n",
    "    \n",
    "    fitness = evaluate_population(population)\n",
    "    best_solution = population[fitness.index(min(fitness))]\n",
    "    print (f\"Best solution after  {generations} generations: {best_solution}\")\n",
    "    return best_solution, best_fitness_over_time"
   ]
  },
  {
   "cell_type": "code",
   "execution_count": 21,
   "metadata": {},
   "outputs": [],
   "source": [
    "# Cell 9 : Initialize the Parameters\n",
    "pop_size = 6\n",
    "gene_range = 30\n",
    "generations = 50\n",
    "crossover_rate = 0.25\n",
    "mutate_rate = 0.1"
   ]
  },
  {
   "cell_type": "code",
   "execution_count": 22,
   "metadata": {},
   "outputs": [
    {
     "name": "stdout",
     "output_type": "stream",
     "text": [
      "Best solution after  50 generations: [1, 12, 7, 4]\n"
     ]
    }
   ],
   "source": [
    "# Cell 10 : Run the Genetic Algorithm\n",
    "solution, fitness_over_time = genetic_algorithm(pop_size, gene_range, generations, crossover_rate, mutate_rate)"
   ]
  },
  {
   "cell_type": "code",
   "execution_count": 23,
   "metadata": {},
   "outputs": [
    {
     "data": {
      "image/png": "[encoded data removed]",
      "text/plain": [
       "<Figure size 640x480 with 1 Axes>"
      ]
     },
     "metadata": {},
     "output_type": "display_data"
    }
   ],
   "source": [
    "# Cell 11: Visualize the Results\n",
    "plt.plot(range(len(fitness_over_time)), fitness_over_time)\n",
    "plt.title(\"Fitness Over Generations\")\n",
    "plt.xlabel(\"Generation\")\n",
    "plt.ylabel(\"Fitness\")\n",
    "plt.show()"
   ]
  },
  {
   "cell_type": "code",
   "execution_count": 24,
   "metadata": {},
   "outputs": [
    {
     "name": "stdout",
     "output_type": "stream",
     "text": [
      "Final Population:\n",
      "[5, 16, 13, 24]\n",
      "[18, 25, 22, 22]\n",
      "[13, 9, 24, 4]\n",
      "[4, 30, 8, 3]\n",
      "[29, 15, 1, 17]\n",
      "[21, 3, 7, 23]\n"
     ]
    }
   ],
   "source": [
    "# Cell 12: Display the final population\n",
    "print(\"Final Population:\")\n",
    "for chromosome in initialize_population(pop_size, gene_range):\n",
    "    print(chromosome)"
   ]
  }
 ],
 "metadata": {
  "kernelspec": {
   "display_name": "Python 3",
   "language": "python",
   "name": "python3"
  },
  "language_info": {
   "codemirror_mode": {
    "name": "ipython",
    "version": 3
   },
   "file_extension": ".py",
   "mimetype": "text/x-python",
   "name": "python",
   "nbconvert_exporter": "python",
   "pygments_lexer": "ipython3",
   "version": "3.11.5"
  }
 },
 "nbformat": 4,
 "nbformat_minor": 2
}
